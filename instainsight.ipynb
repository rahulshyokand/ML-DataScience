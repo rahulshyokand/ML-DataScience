{
 "cells": [
  {
   "cell_type": "code",
   "execution_count": 497,
   "metadata": {},
   "outputs": [
    {
     "data": {
      "text/html": [
       "<div>\n",
       "<style scoped>\n",
       "    .dataframe tbody tr th:only-of-type {\n",
       "        vertical-align: middle;\n",
       "    }\n",
       "\n",
       "    .dataframe tbody tr th {\n",
       "        vertical-align: top;\n",
       "    }\n",
       "\n",
       "    .dataframe thead th {\n",
       "        text-align: right;\n",
       "    }\n",
       "</style>\n",
       "<table border=\"1\" class=\"dataframe\">\n",
       "  <thead>\n",
       "    <tr style=\"text-align: right;\">\n",
       "      <th></th>\n",
       "      <th>Timestamp</th>\n",
       "      <th>Followers</th>\n",
       "      <th>Following</th>\n",
       "      <th>Likes on Recent Photo</th>\n",
       "    </tr>\n",
       "  </thead>\n",
       "  <tbody>\n",
       "    <tr>\n",
       "      <th>0</th>\n",
       "      <td>12/22/2018 15:06:12</td>\n",
       "      <td>430</td>\n",
       "      <td>330</td>\n",
       "      <td>161</td>\n",
       "    </tr>\n",
       "    <tr>\n",
       "      <th>1</th>\n",
       "      <td>12/22/2018 15:08:38</td>\n",
       "      <td>111</td>\n",
       "      <td>130</td>\n",
       "      <td>39</td>\n",
       "    </tr>\n",
       "    <tr>\n",
       "      <th>2</th>\n",
       "      <td>12/22/2018 15:09:53</td>\n",
       "      <td>299</td>\n",
       "      <td>431</td>\n",
       "      <td>90</td>\n",
       "    </tr>\n",
       "    <tr>\n",
       "      <th>3</th>\n",
       "      <td>12/22/2018 15:10:49</td>\n",
       "      <td>277</td>\n",
       "      <td>654</td>\n",
       "      <td>121</td>\n",
       "    </tr>\n",
       "    <tr>\n",
       "      <th>4</th>\n",
       "      <td>12/22/2018 15:11:24</td>\n",
       "      <td>339</td>\n",
       "      <td>226</td>\n",
       "      <td>115</td>\n",
       "    </tr>\n",
       "  </tbody>\n",
       "</table>\n",
       "</div>"
      ],
      "text/plain": [
       "             Timestamp  Followers  Following   Likes on Recent Photo\n",
       "0  12/22/2018 15:06:12        430         330                    161\n",
       "1  12/22/2018 15:08:38        111         130                     39\n",
       "2  12/22/2018 15:09:53        299         431                     90\n",
       "3  12/22/2018 15:10:49        277         654                    121\n",
       "4  12/22/2018 15:11:24        339         226                    115"
      ]
     },
     "execution_count": 497,
     "metadata": {},
     "output_type": "execute_result"
    }
   ],
   "source": [
    "%matplotlib inline\n",
    "import numpy\n",
    "import pandas\n",
    "import matplotlib.pyplot as plot\n",
    "\n",
    "#reading CSV file using PANDAS\n",
    "data = pandas.read_csv('instainsights.csv')\n",
    "\n",
    "#displaying data of csv\n",
    "data.head()\n"
   ]
  },
  {
   "cell_type": "code",
   "execution_count": 498,
   "metadata": {},
   "outputs": [
    {
     "data": {
      "text/plain": [
       "(30, 4)"
      ]
     },
     "execution_count": 498,
     "metadata": {},
     "output_type": "execute_result"
    }
   ],
   "source": [
    "#gives how many rows and columns\n",
    "#(rows , columns)\n",
    "data.shape"
   ]
  },
  {
   "cell_type": "code",
   "execution_count": 499,
   "metadata": {},
   "outputs": [
    {
     "data": {
      "text/plain": [
       "Index(['Timestamp', 'Followers', 'Following ', 'Likes on Recent Photo'], dtype='object')"
      ]
     },
     "execution_count": 499,
     "metadata": {},
     "output_type": "execute_result"
    }
   ],
   "source": [
    "#the titles of columns\n",
    "data.columns"
   ]
  },
  {
   "cell_type": "code",
   "execution_count": 500,
   "metadata": {},
   "outputs": [],
   "source": [
    "#refining total data to required Followers and following \n",
    "followfollowing = data[[ 'Followers' , 'Following ']]\n",
    "#displays the list of extracted data\n",
    "#uncomment below line to see results\n",
    "#followfollowing\n"
   ]
  },
  {
   "cell_type": "code",
   "execution_count": 501,
   "metadata": {},
   "outputs": [
    {
     "data": {
      "text/plain": [
       "pandas.core.frame.DataFrame"
      ]
     },
     "execution_count": 501,
     "metadata": {},
     "output_type": "execute_result"
    }
   ],
   "source": [
    "#tageting required columns and storing in a variable\n",
    "like = data[['Likes on Recent Photo']]\n",
    "\n",
    "followers = data[['Followers']]\n",
    "# !!!!!!!!! The  data type of extracted csv's data is pandas.core.frame.DataFrame not a LIST or ARRAY\n",
    "type(followers)\n",
    "type(like)"
   ]
  },
  {
   "cell_type": "code",
   "execution_count": 502,
   "metadata": {},
   "outputs": [
    {
     "data": {
      "text/plain": [
       "<matplotlib.collections.PathCollection at 0x202dcad9be0>"
      ]
     },
     "execution_count": 502,
     "metadata": {},
     "output_type": "execute_result"
    },
    {
     "data": {
      "image/png": "[encoded data removed]",
      "text/plain": [
       "<Figure size 432x288 with 1 Axes>"
      ]
     },
     "metadata": {
      "needs_background": "light"
     },
     "output_type": "display_data"
    }
   ],
   "source": [
    "from pylab import *\n",
    "import matplotlib.pyplot as plot\n",
    "\n",
    "#some matplotlib magic here\n",
    "axis= plot.axis()\n",
    "axis = plot.xlabel('Followers')\n",
    "plot.ylabel('likes')\n",
    "#scatter(x , y)\n",
    "#scatter(independent var , dependent var)\n",
    "# Number of likes depend upon number of Followers one has.\n",
    "scatter(followers , like)\n",
    "\n"
   ]
  },
  {
   "cell_type": "code",
   "execution_count": 503,
   "metadata": {},
   "outputs": [
    {
     "data": {
      "text/plain": [
       "Likes on Recent Photo    int64\n",
       "dtype: object"
      ]
     },
     "execution_count": 503,
     "metadata": {},
     "output_type": "execute_result"
    }
   ],
   "source": [
    "#dtype for data type object\n",
    "like.dtypes"
   ]
  },
  {
   "cell_type": "code",
   "execution_count": 504,
   "metadata": {},
   "outputs": [
    {
     "data": {
      "text/plain": [
       "pandas.core.frame.DataFrame"
      ]
     },
     "execution_count": 504,
     "metadata": {},
     "output_type": "execute_result"
    }
   ],
   "source": [
    "#type for variable type \n",
    "type(like)"
   ]
  },
  {
   "cell_type": "code",
   "execution_count": 505,
   "metadata": {
    "scrolled": true
   },
   "outputs": [],
   "source": [
    "# converting like's pandas data frame to numpy.ndarray \n",
    "Like=like.values\n",
    "Followers = followers.values\n",
    "#Pandas DAtaframe is displayed formated\n",
    "#numpy.ndarray looks as array/List of List"
   ]
  },
  {
   "cell_type": "code",
   "execution_count": 506,
   "metadata": {},
   "outputs": [],
   "source": [
    "#try uncommomenting data to see the difference\n",
    "\n",
    "#Like \n",
    "\n",
    "#like"
   ]
  },
  {
   "cell_type": "code",
   "execution_count": 507,
   "metadata": {},
   "outputs": [
    {
     "data": {
      "text/plain": [
       "numpy.ndarray"
      ]
     },
     "execution_count": 507,
     "metadata": {},
     "output_type": "execute_result"
    }
   ],
   "source": [
    "# variable type of now is numpy.ndarray as converted above\n",
    "type(Like)\n",
    "type(Followers)"
   ]
  },
  {
   "cell_type": "code",
   "execution_count": 508,
   "metadata": {},
   "outputs": [],
   "source": [
    "# numpy.ndarray is = list of list where index is part of data\n",
    "#converting numpy.ndarray to List\n",
    "#accessing each element once and storing in new variable LIKE/FOLLOWERS\n",
    "LIKE = [i[0] for i in Like]\n",
    "FOLLOWERS = [i[0] for i in Followers]"
   ]
  },
  {
   "cell_type": "code",
   "execution_count": 509,
   "metadata": {},
   "outputs": [
    {
     "data": {
      "text/plain": [
       "list"
      ]
     },
     "execution_count": 509,
     "metadata": {},
     "output_type": "execute_result"
    }
   ],
   "source": [
    "#Now the data type = list\n",
    "type(FOLLOWERS)\n",
    "type(LIKE)\n"
   ]
  },
  {
   "cell_type": "code",
   "execution_count": 510,
   "metadata": {},
   "outputs": [],
   "source": [
    "#converted a ndarray to List for using in Linear regression Function\n",
    "# ndarray can not be passed if contains list is list "
   ]
  },
  {
   "cell_type": "code",
   "execution_count": 511,
   "metadata": {},
   "outputs": [],
   "source": [
    "from scipy import stats\n",
    "# passing FOLLOWERS and LIKE List to linregress\n",
    "slope, intercept, r_value, p_value, std_err  = stats.linregress(FOLLOWERS , LIKE)"
   ]
  },
  {
   "cell_type": "code",
   "execution_count": 512,
   "metadata": {},
   "outputs": [
    {
     "data": {
      "text/plain": [
       "0.4068386612689012"
      ]
     },
     "execution_count": 512,
     "metadata": {},
     "output_type": "execute_result"
    }
   ],
   "source": [
    "# Error prediction \n",
    "# r_squared close to 0 means Not accurate \n",
    "# and close to 1 means less error \n",
    "r_value ** 2"
   ]
  },
  {
   "cell_type": "code",
   "execution_count": 513,
   "metadata": {},
   "outputs": [],
   "source": [
    "# converting list to ndarray for ploting using matplotlib\n",
    "LIKE = numpy.asarray(LIKE, dtype=numpy.float64)\n",
    "FOLLOWERS = numpy.asarray(FOLLOWERS , dtype = numpy.float64)"
   ]
  },
  {
   "cell_type": "code",
   "execution_count": 514,
   "metadata": {},
   "outputs": [
    {
     "data": {
      "text/plain": [
       "numpy.ndarray"
      ]
     },
     "execution_count": 514,
     "metadata": {},
     "output_type": "execute_result"
    }
   ],
   "source": [
    "type(LIKE)\n",
    "#LIKE.dtype\n",
    "#FOLLOWERS.dtype"
   ]
  },
  {
   "cell_type": "code",
   "execution_count": 515,
   "metadata": {},
   "outputs": [],
   "source": [
    "import matplotlib.pyplot as plot\n",
    "# predicting function creates Y = Mx + c Equation of Line\n",
    "def predict(x):\n",
    "    return slope * x + intercept"
   ]
  },
  {
   "cell_type": "code",
   "execution_count": 516,
   "metadata": {},
   "outputs": [
    {
     "data": {
      "text/plain": [
       "numpy.ndarray"
      ]
     },
     "execution_count": 516,
     "metadata": {},
     "output_type": "execute_result"
    }
   ],
   "source": [
    "type(Followers)"
   ]
  },
  {
   "cell_type": "code",
   "execution_count": 517,
   "metadata": {},
   "outputs": [
    {
     "data": {
      "text/plain": [
       "numpy.ndarray"
      ]
     },
     "execution_count": 517,
     "metadata": {},
     "output_type": "execute_result"
    }
   ],
   "source": [
    "type(FOLLOWERS)"
   ]
  },
  {
   "cell_type": "code",
   "execution_count": 518,
   "metadata": {},
   "outputs": [],
   "source": [
    "# could also use predict(Followers)\n",
    "# need to pass numpy.ndarray  to the predict \n",
    "# FOLLOWERS is also numpy.ndarray at this instance\n",
    "# to avoid this error TypeError: can't multiply sequence by non-int of type 'numpy.float64'\n",
    "fitLine = predict(FOLLOWERS)"
   ]
  },
  {
   "cell_type": "code",
   "execution_count": 519,
   "metadata": {},
   "outputs": [
    {
     "data": {
      "image/png": "[encoded data removed]",
      "text/plain": [
       "<Figure size 432x288 with 1 Axes>"
      ]
     },
     "metadata": {
      "needs_background": "light"
     },
     "output_type": "display_data"
    }
   ],
   "source": [
    "# Graph Given Labels\n",
    "axis= plot.axis()\n",
    "axis = plot.xlabel('Followers')\n",
    "plot.ylabel('Likes')\n",
    "\n",
    "\n",
    "#Ploted again need numpy.ndarray type\n",
    "plot.scatter(FOLLOWERS, LIKE)\n",
    "plot.plot(FOLLOWERS, fitLine, c='r')\n",
    "plot.show()"
   ]
  }
 ],
 "metadata": {
  "kernelspec": {
   "display_name": "Python 3",
   "language": "python",
   "name": "python3"
  },
  "language_info": {
   "codemirror_mode": {
    "name": "ipython",
    "version": 3
   },
   "file_extension": ".py",
   "mimetype": "text/x-python",
   "name": "python",
   "nbconvert_exporter": "python",
   "pygments_lexer": "ipython3",
   "version": "3.7.0"
  }
 },
 "nbformat": 4,
 "nbformat_minor": 2
}
